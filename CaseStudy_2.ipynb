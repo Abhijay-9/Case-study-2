{
  "nbformat": 4,
  "nbformat_minor": 0,
  "metadata": {
    "colab": {
      "provenance": [],
      "authorship_tag": "ABX9TyNWzfdeO3Evs1Geso95DoAk",
      "include_colab_link": true
    },
    "kernelspec": {
      "name": "python3",
      "display_name": "Python 3"
    },
    "language_info": {
      "name": "python"
    }
  },
  "cells": [
    {
      "cell_type": "markdown",
      "metadata": {
        "id": "view-in-github",
        "colab_type": "text"
      },
      "source": [
        "<a href=\"https://colab.research.google.com/github/Abhijay-9/Case-study-2/blob/main/CaseStudy_2.ipynb\" target=\"_parent\"><img src=\"https://colab.research.google.com/assets/colab-badge.svg\" alt=\"Open In Colab\"/></a>"
      ]
    },
    {
      "cell_type": "code",
      "execution_count": null,
      "metadata": {
        "id": "jdDh0YPRL5YD",
        "colab": {
          "base_uri": "https://localhost:8080/"
        },
        "outputId": "dc389f58-24d2-448e-8156-2328789bb270"
      },
      "outputs": [
        {
          "output_type": "stream",
          "name": "stdout",
          "text": [
            "Welcome to the LED Brightness Controller!\n",
            "Enter LED brightness (0-100, -1 to exit): 2\n",
            "LED Brightness: [░░░░░░░░░░] 2%\n",
            "--------------------\n",
            "Enter LED brightness (0-100, -1 to exit): 50\n",
            "LED Brightness: [█████░░░░░] 50%\n",
            "--------------------\n"
          ]
        }
      ],
      "source": [
        "print(\"Welcome to the LED Brightness Controller!\")\n",
        "while True:\n",
        "    try:\n",
        "        brightness = int(input(\"Enter LED brightness (0-100, -1 to exit): \"))\n",
        "        if brightness == -1:\n",
        "            print(\"Exiting program. Goodbye!\")\n",
        "            break\n",
        "        brightness = max(0, min(brightness, 100))\n",
        "        num_stars = brightness // 10\n",
        "        bar = \"█\" * num_stars + \"░\" * (10 - num_stars)\n",
        "        print(f\"LED Brightness: [{bar}] {brightness}%\")\n",
        "    except ValueError:\n",
        "        print(\"Invalid input! Please enter a number between 0 and 100.\")\n",
        "    print(\"-\" * 20)"
      ]
    },
    {
      "cell_type": "code",
      "source": [],
      "metadata": {
        "id": "n-M4OVVst-SR"
      },
      "execution_count": null,
      "outputs": []
    }
  ]
}